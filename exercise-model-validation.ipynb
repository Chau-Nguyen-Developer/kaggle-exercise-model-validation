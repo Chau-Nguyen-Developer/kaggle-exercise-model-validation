{
 "cells": [
  {
   "cell_type": "markdown",
   "id": "89d2b4a5",
   "metadata": {
    "papermill": {
     "duration": 0.004828,
     "end_time": "2025-07-13T05:42:44.666566",
     "exception": false,
     "start_time": "2025-07-13T05:42:44.661738",
     "status": "completed"
    },
    "tags": []
   },
   "source": [
    "**This notebook is an exercise in the [Introduction to Machine Learning](https://www.kaggle.com/learn/intro-to-machine-learning) course.  You can reference the tutorial at [this link](https://www.kaggle.com/dansbecker/model-validation).**\n",
    "\n",
    "---\n"
   ]
  },
  {
   "cell_type": "markdown",
   "id": "522463e4",
   "metadata": {
    "papermill": {
     "duration": 0.003564,
     "end_time": "2025-07-13T05:42:44.674240",
     "exception": false,
     "start_time": "2025-07-13T05:42:44.670676",
     "status": "completed"
    },
    "tags": []
   },
   "source": [
    "## Recap\n",
    "You've built a model. In this exercise you will test how good your model is.\n",
    "\n",
    "Run the cell below to set up your coding environment where the previous exercise left off."
   ]
  },
  {
   "cell_type": "code",
   "execution_count": 1,
   "id": "708c133d",
   "metadata": {
    "execution": {
     "iopub.execute_input": "2025-07-13T05:42:44.683394Z",
     "iopub.status.busy": "2025-07-13T05:42:44.682957Z",
     "iopub.status.idle": "2025-07-13T05:42:49.308525Z",
     "shell.execute_reply": "2025-07-13T05:42:49.307172Z"
    },
    "papermill": {
     "duration": 4.632023,
     "end_time": "2025-07-13T05:42:49.310118",
     "exception": false,
     "start_time": "2025-07-13T05:42:44.678095",
     "status": "completed"
    },
    "tags": []
   },
   "outputs": [
    {
     "name": "stdout",
     "output_type": "stream",
     "text": [
      "First in-sample predictions: [208500. 181500. 223500. 140000. 250000.]\n",
      "Actual target values for those homes: [208500, 181500, 223500, 140000, 250000]\n",
      "Setup Complete\n"
     ]
    }
   ],
   "source": [
    "# Code you have previously used to load data\n",
    "import pandas as pd\n",
    "from sklearn.tree import DecisionTreeRegressor\n",
    "\n",
    "# Path of the file to read\n",
    "iowa_file_path = '../input/home-data-for-ml-course/train.csv'\n",
    "\n",
    "home_data = pd.read_csv(iowa_file_path)\n",
    "y = home_data.SalePrice\n",
    "feature_columns = ['LotArea', 'YearBuilt', '1stFlrSF', '2ndFlrSF', 'FullBath', 'BedroomAbvGr', 'TotRmsAbvGrd']\n",
    "X = home_data[feature_columns]\n",
    "\n",
    "# Specify Model\n",
    "iowa_model = DecisionTreeRegressor()\n",
    "# Fit Model\n",
    "iowa_model.fit(X, y)\n",
    "\n",
    "print(\"First in-sample predictions:\", iowa_model.predict(X.head()))\n",
    "print(\"Actual target values for those homes:\", y.head().tolist())\n",
    "\n",
    "# Set up code checking\n",
    "from learntools.core import binder\n",
    "binder.bind(globals())\n",
    "from learntools.machine_learning.ex4 import *\n",
    "print(\"Setup Complete\")"
   ]
  },
  {
   "cell_type": "markdown",
   "id": "8c935fba",
   "metadata": {
    "papermill": {
     "duration": 0.003823,
     "end_time": "2025-07-13T05:42:49.318349",
     "exception": false,
     "start_time": "2025-07-13T05:42:49.314526",
     "status": "completed"
    },
    "tags": []
   },
   "source": [
    "# Exercises\n",
    "\n",
    "## Step 1: Split Your Data\n",
    "Use the `train_test_split` function to split up your data.\n",
    "\n",
    "Give it the argument `random_state=1` so the `check` functions know what to expect when verifying your code.\n",
    "\n",
    "Recall, your features are loaded in the DataFrame **X** and your target is loaded in **y**.\n"
   ]
  },
  {
   "cell_type": "code",
   "execution_count": 2,
   "id": "ed06133e",
   "metadata": {
    "execution": {
     "iopub.execute_input": "2025-07-13T05:42:49.328001Z",
     "iopub.status.busy": "2025-07-13T05:42:49.327082Z",
     "iopub.status.idle": "2025-07-13T05:42:49.344682Z",
     "shell.execute_reply": "2025-07-13T05:42:49.343602Z"
    },
    "papermill": {
     "duration": 0.024013,
     "end_time": "2025-07-13T05:42:49.346260",
     "exception": false,
     "start_time": "2025-07-13T05:42:49.322247",
     "status": "completed"
    },
    "tags": []
   },
   "outputs": [
    {
     "data": {
      "application/javascript": [
       "parent.postMessage({\"jupyterEvent\": \"custom.exercise_interaction\", \"data\": {\"outcomeType\": 1, \"valueTowardsCompletion\": 0.25, \"interactionType\": 1, \"questionType\": 2, \"questionId\": \"1_SplitData\", \"learnToolsVersion\": \"0.3.5\", \"failureMessage\": \"\", \"exceptionClass\": \"\", \"trace\": \"\"}}, \"*\")"
      ],
      "text/plain": [
       "<IPython.core.display.Javascript object>"
      ]
     },
     "metadata": {},
     "output_type": "display_data"
    },
    {
     "data": {
      "text/markdown": [
       "<span style=\"color:#33cc33\">Correct</span>"
      ],
      "text/plain": [
       "Correct"
      ]
     },
     "metadata": {},
     "output_type": "display_data"
    }
   ],
   "source": [
    "# Import the train_test_split function and uncomment\n",
    "from sklearn.model_selection import train_test_split\n",
    "\n",
    "# fill in and uncomment\n",
    "train_X, val_X, train_y, val_y = train_test_split(X, y, random_state=1)\n",
    "\n",
    "# Check your answer\n",
    "step_1.check()"
   ]
  },
  {
   "cell_type": "code",
   "execution_count": 3,
   "id": "5ba93b1e",
   "metadata": {
    "execution": {
     "iopub.execute_input": "2025-07-13T05:42:49.356414Z",
     "iopub.status.busy": "2025-07-13T05:42:49.356045Z",
     "iopub.status.idle": "2025-07-13T05:42:49.360221Z",
     "shell.execute_reply": "2025-07-13T05:42:49.359355Z"
    },
    "papermill": {
     "duration": 0.011172,
     "end_time": "2025-07-13T05:42:49.362012",
     "exception": false,
     "start_time": "2025-07-13T05:42:49.350840",
     "status": "completed"
    },
    "tags": []
   },
   "outputs": [],
   "source": [
    "# The lines below will show you a hint or the solution.\n",
    "# step_1.hint() \n",
    "# step_1.solution()\n"
   ]
  },
  {
   "cell_type": "markdown",
   "id": "4f58da53",
   "metadata": {
    "papermill": {
     "duration": 0.00387,
     "end_time": "2025-07-13T05:42:49.370232",
     "exception": false,
     "start_time": "2025-07-13T05:42:49.366362",
     "status": "completed"
    },
    "tags": []
   },
   "source": [
    "## Step 2: Specify and Fit the Model\n",
    "\n",
    "Create a `DecisionTreeRegressor` model and fit it to the relevant data.\n",
    "Set `random_state` to 1 again when creating the model."
   ]
  },
  {
   "cell_type": "code",
   "execution_count": 4,
   "id": "d4442cb3",
   "metadata": {
    "execution": {
     "iopub.execute_input": "2025-07-13T05:42:49.380065Z",
     "iopub.status.busy": "2025-07-13T05:42:49.379730Z",
     "iopub.status.idle": "2025-07-13T05:42:49.407183Z",
     "shell.execute_reply": "2025-07-13T05:42:49.406217Z"
    },
    "papermill": {
     "duration": 0.034527,
     "end_time": "2025-07-13T05:42:49.409078",
     "exception": false,
     "start_time": "2025-07-13T05:42:49.374551",
     "status": "completed"
    },
    "tags": []
   },
   "outputs": [
    {
     "name": "stdout",
     "output_type": "stream",
     "text": [
      "[186500. 184000. 130000.  92000. 164500. 220000. 335000. 144152. 215000.\n",
      " 262000.]\n",
      "[186500. 184000. 130000.  92000. 164500. 220000. 335000. 144152. 215000.\n",
      " 262000.]\n"
     ]
    },
    {
     "data": {
      "application/javascript": [
       "parent.postMessage({\"jupyterEvent\": \"custom.exercise_interaction\", \"data\": {\"outcomeType\": 1, \"valueTowardsCompletion\": 0.25, \"interactionType\": 1, \"questionType\": 2, \"questionId\": \"2_FitModelWithTrain\", \"learnToolsVersion\": \"0.3.5\", \"failureMessage\": \"\", \"exceptionClass\": \"\", \"trace\": \"\"}}, \"*\")"
      ],
      "text/plain": [
       "<IPython.core.display.Javascript object>"
      ]
     },
     "metadata": {},
     "output_type": "display_data"
    },
    {
     "data": {
      "text/markdown": [
       "<span style=\"color:#33cc33\">Correct</span>"
      ],
      "text/plain": [
       "Correct"
      ]
     },
     "metadata": {},
     "output_type": "display_data"
    }
   ],
   "source": [
    "# You imported DecisionTreeRegressor in your last exercise\n",
    "# and that code has been copied to the setup code above. So, no need to\n",
    "# import it again\n",
    "\n",
    "# Specify the model\n",
    "iowa_model = DecisionTreeRegressor(random_state=1)\n",
    "\n",
    "# Fit iowa_model with the training data.\n",
    "iowa_model.fit(train_X, train_y)\n",
    "\n",
    "# Check your answer\n",
    "step_2.check()"
   ]
  },
  {
   "cell_type": "code",
   "execution_count": 5,
   "id": "7d44e0bc",
   "metadata": {
    "execution": {
     "iopub.execute_input": "2025-07-13T05:42:49.421804Z",
     "iopub.status.busy": "2025-07-13T05:42:49.421443Z",
     "iopub.status.idle": "2025-07-13T05:42:49.425958Z",
     "shell.execute_reply": "2025-07-13T05:42:49.424784Z"
    },
    "papermill": {
     "duration": 0.013658,
     "end_time": "2025-07-13T05:42:49.427812",
     "exception": false,
     "start_time": "2025-07-13T05:42:49.414154",
     "status": "completed"
    },
    "tags": []
   },
   "outputs": [],
   "source": [
    "# step_2.hint()\n",
    "# step_2.solution()"
   ]
  },
  {
   "cell_type": "markdown",
   "id": "21225664",
   "metadata": {
    "papermill": {
     "duration": 0.004496,
     "end_time": "2025-07-13T05:42:49.437061",
     "exception": false,
     "start_time": "2025-07-13T05:42:49.432565",
     "status": "completed"
    },
    "tags": []
   },
   "source": [
    "## Step 3: Make Predictions with Validation data\n"
   ]
  },
  {
   "cell_type": "code",
   "execution_count": 6,
   "id": "830b6da2",
   "metadata": {
    "execution": {
     "iopub.execute_input": "2025-07-13T05:42:49.448138Z",
     "iopub.status.busy": "2025-07-13T05:42:49.447810Z",
     "iopub.status.idle": "2025-07-13T05:42:49.459117Z",
     "shell.execute_reply": "2025-07-13T05:42:49.458044Z"
    },
    "papermill": {
     "duration": 0.018843,
     "end_time": "2025-07-13T05:42:49.460959",
     "exception": false,
     "start_time": "2025-07-13T05:42:49.442116",
     "status": "completed"
    },
    "tags": []
   },
   "outputs": [
    {
     "data": {
      "application/javascript": [
       "parent.postMessage({\"jupyterEvent\": \"custom.exercise_interaction\", \"data\": {\"outcomeType\": 1, \"valueTowardsCompletion\": 0.25, \"interactionType\": 1, \"questionType\": 2, \"questionId\": \"3_ValPreds\", \"learnToolsVersion\": \"0.3.5\", \"failureMessage\": \"\", \"exceptionClass\": \"\", \"trace\": \"\"}}, \"*\")"
      ],
      "text/plain": [
       "<IPython.core.display.Javascript object>"
      ]
     },
     "metadata": {},
     "output_type": "display_data"
    },
    {
     "data": {
      "text/markdown": [
       "<span style=\"color:#33cc33\">Correct</span>"
      ],
      "text/plain": [
       "Correct"
      ]
     },
     "metadata": {},
     "output_type": "display_data"
    }
   ],
   "source": [
    "# Predict with all validation observations\n",
    "val_predictions = iowa_model.predict(val_X)\n",
    "\n",
    "# Check your answer\n",
    "step_3.check()"
   ]
  },
  {
   "cell_type": "code",
   "execution_count": 7,
   "id": "acf3c358",
   "metadata": {
    "execution": {
     "iopub.execute_input": "2025-07-13T05:42:49.472241Z",
     "iopub.status.busy": "2025-07-13T05:42:49.471925Z",
     "iopub.status.idle": "2025-07-13T05:42:49.476248Z",
     "shell.execute_reply": "2025-07-13T05:42:49.475284Z"
    },
    "papermill": {
     "duration": 0.012303,
     "end_time": "2025-07-13T05:42:49.478190",
     "exception": false,
     "start_time": "2025-07-13T05:42:49.465887",
     "status": "completed"
    },
    "tags": []
   },
   "outputs": [],
   "source": [
    "# step_3.hint()\n",
    "# step_3.solution()"
   ]
  },
  {
   "cell_type": "markdown",
   "id": "2d7eacba",
   "metadata": {
    "papermill": {
     "duration": 0.004377,
     "end_time": "2025-07-13T05:42:49.487824",
     "exception": false,
     "start_time": "2025-07-13T05:42:49.483447",
     "status": "completed"
    },
    "tags": []
   },
   "source": [
    "Inspect your predictions and actual values from validation data."
   ]
  },
  {
   "cell_type": "code",
   "execution_count": 8,
   "id": "51f8fac9",
   "metadata": {
    "execution": {
     "iopub.execute_input": "2025-07-13T05:42:49.498910Z",
     "iopub.status.busy": "2025-07-13T05:42:49.498588Z",
     "iopub.status.idle": "2025-07-13T05:42:49.503965Z",
     "shell.execute_reply": "2025-07-13T05:42:49.503043Z"
    },
    "papermill": {
     "duration": 0.012649,
     "end_time": "2025-07-13T05:42:49.505545",
     "exception": false,
     "start_time": "2025-07-13T05:42:49.492896",
     "status": "completed"
    },
    "tags": []
   },
   "outputs": [
    {
     "name": "stdout",
     "output_type": "stream",
     "text": [
      "[186500.0, 184000.0, 130000.0, 92000.0, 164500.0]\n"
     ]
    }
   ],
   "source": [
    "print(val_predictions[0:5].tolist())"
   ]
  },
  {
   "cell_type": "code",
   "execution_count": 9,
   "id": "911eacd5",
   "metadata": {
    "execution": {
     "iopub.execute_input": "2025-07-13T05:42:49.517110Z",
     "iopub.status.busy": "2025-07-13T05:42:49.516819Z",
     "iopub.status.idle": "2025-07-13T05:42:49.522053Z",
     "shell.execute_reply": "2025-07-13T05:42:49.520864Z"
    },
    "papermill": {
     "duration": 0.013342,
     "end_time": "2025-07-13T05:42:49.523836",
     "exception": false,
     "start_time": "2025-07-13T05:42:49.510494",
     "status": "completed"
    },
    "tags": []
   },
   "outputs": [
    {
     "name": "stdout",
     "output_type": "stream",
     "text": [
      "[231500, 179500, 122000, 84500, 142000]\n"
     ]
    }
   ],
   "source": [
    "# print the top few actual prices from validation data\n",
    "print(val_y.head().tolist())"
   ]
  },
  {
   "cell_type": "markdown",
   "id": "e1cd1d26",
   "metadata": {
    "papermill": {
     "duration": 0.004564,
     "end_time": "2025-07-13T05:42:49.533300",
     "exception": false,
     "start_time": "2025-07-13T05:42:49.528736",
     "status": "completed"
    },
    "tags": []
   },
   "source": [
    "What do you notice that is different from what you saw with in-sample predictions (which are printed after the top code cell in this page).\n",
    "\n",
    "Do you remember why validation predictions differ from in-sample (or training) predictions? This is an important idea from the last lesson.\n",
    "\n",
    "## Step 4: Calculate the Mean Absolute Error in Validation Data\n"
   ]
  },
  {
   "cell_type": "markdown",
   "id": "d66e9a54",
   "metadata": {
    "papermill": {
     "duration": 0.004573,
     "end_time": "2025-07-13T05:42:49.542573",
     "exception": false,
     "start_time": "2025-07-13T05:42:49.538000",
     "status": "completed"
    },
    "tags": []
   },
   "source": [
    "### My note: Recap on why validation predictions differ from in-sample (training) predictions\n",
    "\n",
    "When the model makes predictions on the training data (aka in-sample predictions), it tends to do well (or sometimes too well/overfitting) as it is making predictions on data that it has already seen and learned/captured the patterns (and maybe noise) from. \n",
    "\n",
    "The factual accuracy of the model will be demonstrated through how it makes predictions on new, unseen data (out-of-sample predictions) (whether with a validation set or a new dataset). The validation set helps us measure the model's ability to generalize (aka how well it applies its learned patterns to new data.)"
   ]
  },
  {
   "cell_type": "code",
   "execution_count": 10,
   "id": "a1f1301f",
   "metadata": {
    "execution": {
     "iopub.execute_input": "2025-07-13T05:42:49.554287Z",
     "iopub.status.busy": "2025-07-13T05:42:49.553107Z",
     "iopub.status.idle": "2025-07-13T05:42:49.563249Z",
     "shell.execute_reply": "2025-07-13T05:42:49.562354Z"
    },
    "papermill": {
     "duration": 0.017331,
     "end_time": "2025-07-13T05:42:49.564794",
     "exception": false,
     "start_time": "2025-07-13T05:42:49.547463",
     "status": "completed"
    },
    "tags": []
   },
   "outputs": [
    {
     "name": "stdout",
     "output_type": "stream",
     "text": [
      "29652.931506849316\n"
     ]
    },
    {
     "data": {
      "application/javascript": [
       "parent.postMessage({\"jupyterEvent\": \"custom.exercise_interaction\", \"data\": {\"outcomeType\": 1, \"valueTowardsCompletion\": 0.25, \"interactionType\": 1, \"questionType\": 1, \"questionId\": \"4_MAE\", \"learnToolsVersion\": \"0.3.5\", \"failureMessage\": \"\", \"exceptionClass\": \"\", \"trace\": \"\"}}, \"*\")"
      ],
      "text/plain": [
       "<IPython.core.display.Javascript object>"
      ]
     },
     "metadata": {},
     "output_type": "display_data"
    },
    {
     "data": {
      "text/markdown": [
       "<span style=\"color:#33cc33\">Correct</span>"
      ],
      "text/plain": [
       "Correct"
      ]
     },
     "metadata": {},
     "output_type": "display_data"
    }
   ],
   "source": [
    "from sklearn.metrics import mean_absolute_error\n",
    "val_mae = mean_absolute_error(val_y, val_predictions)\n",
    "\n",
    "# uncomment following line to see the validation_mae\n",
    "print(val_mae)\n",
    "\n",
    "# Check your answer\n",
    "step_4.check()"
   ]
  },
  {
   "cell_type": "code",
   "execution_count": 11,
   "id": "e29b07b8",
   "metadata": {
    "execution": {
     "iopub.execute_input": "2025-07-13T05:42:49.576646Z",
     "iopub.status.busy": "2025-07-13T05:42:49.576253Z",
     "iopub.status.idle": "2025-07-13T05:42:49.580797Z",
     "shell.execute_reply": "2025-07-13T05:42:49.579830Z"
    },
    "papermill": {
     "duration": 0.012293,
     "end_time": "2025-07-13T05:42:49.582510",
     "exception": false,
     "start_time": "2025-07-13T05:42:49.570217",
     "status": "completed"
    },
    "tags": []
   },
   "outputs": [],
   "source": [
    "# step_4.hint()\n",
    "# step_4.solution()"
   ]
  },
  {
   "cell_type": "markdown",
   "id": "654f756a",
   "metadata": {
    "papermill": {
     "duration": 0.004834,
     "end_time": "2025-07-13T05:42:49.592671",
     "exception": false,
     "start_time": "2025-07-13T05:42:49.587837",
     "status": "completed"
    },
    "tags": []
   },
   "source": [
    "Is that MAE good?  There isn't a general rule for what values are good that applies across applications. But you'll see how to use (and improve) this number in the next step.\n",
    "\n",
    "# Keep Going\n",
    "\n",
    "You are ready for **[Underfitting and Overfitting](https://www.kaggle.com/dansbecker/underfitting-and-overfitting).**\n"
   ]
  },
  {
   "cell_type": "markdown",
   "id": "8061c97f",
   "metadata": {
    "papermill": {
     "duration": 0.004523,
     "end_time": "2025-07-13T05:42:49.602086",
     "exception": false,
     "start_time": "2025-07-13T05:42:49.597563",
     "status": "completed"
    },
    "tags": []
   },
   "source": [
    "---\n",
    "\n",
    "\n",
    "\n",
    "\n",
    "*Have questions or comments? Visit the [course discussion forum](https://www.kaggle.com/learn/intro-to-machine-learning/discussion) to chat with other learners.*"
   ]
  }
 ],
 "metadata": {
  "kaggle": {
   "accelerator": "none",
   "dataSources": [
    {
     "databundleVersionId": 111096,
     "sourceId": 10211,
     "sourceType": "competition"
    },
    {
     "datasetId": 11167,
     "sourceId": 15520,
     "sourceType": "datasetVersion"
    },
    {
     "datasetId": 2709,
     "sourceId": 38454,
     "sourceType": "datasetVersion"
    }
   ],
   "isGpuEnabled": false,
   "isInternetEnabled": false,
   "language": "python",
   "sourceType": "notebook"
  },
  "kernelspec": {
   "display_name": "Python 3",
   "language": "python",
   "name": "python3"
  },
  "language_info": {
   "codemirror_mode": {
    "name": "ipython",
    "version": 3
   },
   "file_extension": ".py",
   "mimetype": "text/x-python",
   "name": "python",
   "nbconvert_exporter": "python",
   "pygments_lexer": "ipython3",
   "version": "3.11.13"
  },
  "papermill": {
   "default_parameters": {},
   "duration": 11.058121,
   "end_time": "2025-07-13T05:42:50.227315",
   "environment_variables": {},
   "exception": null,
   "input_path": "__notebook__.ipynb",
   "output_path": "__notebook__.ipynb",
   "parameters": {},
   "start_time": "2025-07-13T05:42:39.169194",
   "version": "2.6.0"
  }
 },
 "nbformat": 4,
 "nbformat_minor": 5
}
