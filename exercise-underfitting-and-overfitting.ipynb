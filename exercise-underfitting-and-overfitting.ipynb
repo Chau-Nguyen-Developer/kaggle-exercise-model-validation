{
 "cells": [
  {
   "cell_type": "markdown",
   "id": "e41e13c8",
   "metadata": {
    "papermill": {
     "duration": 0.003676,
     "end_time": "2025-07-13T22:12:21.028270",
     "exception": false,
     "start_time": "2025-07-13T22:12:21.024594",
     "status": "completed"
    },
    "tags": []
   },
   "source": [
    "**This notebook is an exercise in the [Introduction to Machine Learning](https://www.kaggle.com/learn/intro-to-machine-learning) course.  You can reference the tutorial at [this link](https://www.kaggle.com/dansbecker/underfitting-and-overfitting).**\n",
    "\n",
    "---\n"
   ]
  },
  {
   "cell_type": "markdown",
   "id": "73cc6299",
   "metadata": {
    "papermill": {
     "duration": 0.002901,
     "end_time": "2025-07-13T22:12:21.034679",
     "exception": false,
     "start_time": "2025-07-13T22:12:21.031778",
     "status": "completed"
    },
    "tags": []
   },
   "source": [
    "## Recap\n",
    "You've built your first model, and now it's time to optimize the size of the tree to make better predictions. Run this cell to set up your coding environment where the previous step left off."
   ]
  },
  {
   "cell_type": "code",
   "execution_count": 1,
   "id": "0bf1c258",
   "metadata": {
    "execution": {
     "iopub.execute_input": "2025-07-13T22:12:21.042162Z",
     "iopub.status.busy": "2025-07-13T22:12:21.041842Z",
     "iopub.status.idle": "2025-07-13T22:12:25.430162Z",
     "shell.execute_reply": "2025-07-13T22:12:25.428829Z"
    },
    "papermill": {
     "duration": 4.394045,
     "end_time": "2025-07-13T22:12:25.431844",
     "exception": false,
     "start_time": "2025-07-13T22:12:21.037799",
     "status": "completed"
    },
    "tags": []
   },
   "outputs": [
    {
     "name": "stdout",
     "output_type": "stream",
     "text": [
      "Validation MAE: 29,653\n",
      "\n",
      "Setup complete\n"
     ]
    }
   ],
   "source": [
    "# Code you have previously used to load data\n",
    "import pandas as pd\n",
    "from sklearn.metrics import mean_absolute_error\n",
    "from sklearn.model_selection import train_test_split\n",
    "from sklearn.tree import DecisionTreeRegressor\n",
    "\n",
    "\n",
    "# Path of the file to read\n",
    "iowa_file_path = '../input/home-data-for-ml-course/train.csv'\n",
    "\n",
    "home_data = pd.read_csv(iowa_file_path)\n",
    "# Create target object and call it y\n",
    "y = home_data.SalePrice\n",
    "# Create X\n",
    "features = ['LotArea', 'YearBuilt', '1stFlrSF', '2ndFlrSF', 'FullBath', 'BedroomAbvGr', 'TotRmsAbvGrd']\n",
    "X = home_data[features]\n",
    "\n",
    "# Split into validation and training data\n",
    "train_X, val_X, train_y, val_y = train_test_split(X, y, random_state=1)\n",
    "\n",
    "# Specify Model\n",
    "iowa_model = DecisionTreeRegressor(random_state=1)\n",
    "# Fit Model\n",
    "iowa_model.fit(train_X, train_y)\n",
    "\n",
    "# Make validation predictions and calculate mean absolute error\n",
    "val_predictions = iowa_model.predict(val_X)\n",
    "val_mae = mean_absolute_error(val_predictions, val_y)\n",
    "print(\"Validation MAE: {:,.0f}\".format(val_mae))\n",
    "\n",
    "# Set up code checking\n",
    "from learntools.core import binder\n",
    "binder.bind(globals())\n",
    "from learntools.machine_learning.ex5 import *\n",
    "print(\"\\nSetup complete\")"
   ]
  },
  {
   "cell_type": "markdown",
   "id": "b47ae192",
   "metadata": {
    "papermill": {
     "duration": 0.003015,
     "end_time": "2025-07-13T22:12:25.438291",
     "exception": false,
     "start_time": "2025-07-13T22:12:25.435276",
     "status": "completed"
    },
    "tags": []
   },
   "source": [
    "# Exercises\n",
    "You could write the function `get_mae` yourself. For now, we'll supply it. This is the same function you read about in the previous lesson. Just run the cell below."
   ]
  },
  {
   "cell_type": "code",
   "execution_count": 2,
   "id": "694d5a15",
   "metadata": {
    "execution": {
     "iopub.execute_input": "2025-07-13T22:12:25.445784Z",
     "iopub.status.busy": "2025-07-13T22:12:25.445395Z",
     "iopub.status.idle": "2025-07-13T22:12:25.449697Z",
     "shell.execute_reply": "2025-07-13T22:12:25.448775Z"
    },
    "papermill": {
     "duration": 0.009948,
     "end_time": "2025-07-13T22:12:25.451303",
     "exception": false,
     "start_time": "2025-07-13T22:12:25.441355",
     "status": "completed"
    },
    "tags": []
   },
   "outputs": [],
   "source": [
    "# def get_mae(max_leaf_nodes, train_X, val_X, train_y, val_y):\n",
    "#     model = DecisionTreeRegressor(max_leaf_nodes=max_leaf_nodes, random_state=0)\n",
    "#     model.fit(train_X, train_y)\n",
    "#     preds_val = model.predict(val_X)\n",
    "#     mae = mean_absolute_error(val_y, preds_val)\n",
    "#     return(mae)"
   ]
  },
  {
   "cell_type": "markdown",
   "id": "086f6b44",
   "metadata": {
    "papermill": {
     "duration": 0.002875,
     "end_time": "2025-07-13T22:12:25.457703",
     "exception": false,
     "start_time": "2025-07-13T22:12:25.454828",
     "status": "completed"
    },
    "tags": []
   },
   "source": [
    "### My note: I wrote the function myself again to get familiar with the materials. "
   ]
  },
  {
   "cell_type": "code",
   "execution_count": 3,
   "id": "f14e1c7e",
   "metadata": {
    "execution": {
     "iopub.execute_input": "2025-07-13T22:12:25.466137Z",
     "iopub.status.busy": "2025-07-13T22:12:25.465780Z",
     "iopub.status.idle": "2025-07-13T22:12:25.471645Z",
     "shell.execute_reply": "2025-07-13T22:12:25.470694Z"
    },
    "papermill": {
     "duration": 0.011904,
     "end_time": "2025-07-13T22:12:25.473346",
     "exception": false,
     "start_time": "2025-07-13T22:12:25.461442",
     "status": "completed"
    },
    "tags": []
   },
   "outputs": [],
   "source": [
    "def chau_get_mean_absolute_error(given_max_leaf_nodes, train_X, val_X, train_y, val_y):\n",
    "    my_model = DecisionTreeRegressor(max_leaf_nodes=given_max_leaf_nodes, random_state=14)\n",
    "    my_model.fit(train_X, train_y)\n",
    "    predicted_values = my_model.predict(val_X)\n",
    "    mae = mean_absolute_error(val_y, predicted_values)\n",
    "    return mae"
   ]
  },
  {
   "cell_type": "markdown",
   "id": "90306678",
   "metadata": {
    "papermill": {
     "duration": 0.003166,
     "end_time": "2025-07-13T22:12:25.479776",
     "exception": false,
     "start_time": "2025-07-13T22:12:25.476610",
     "status": "completed"
    },
    "tags": []
   },
   "source": [
    "## Step 1: Compare Different Tree Sizes\n",
    "Write a loop that tries the following values for *max_leaf_nodes* from a set of possible values.\n",
    "\n",
    "Call the *get_mae* function on each value of max_leaf_nodes. Store the output in some way that allows you to select the value of `max_leaf_nodes` that gives the most accurate model on your data."
   ]
  },
  {
   "cell_type": "code",
   "execution_count": 4,
   "id": "917653f5",
   "metadata": {
    "execution": {
     "iopub.execute_input": "2025-07-13T22:12:25.487610Z",
     "iopub.status.busy": "2025-07-13T22:12:25.487220Z",
     "iopub.status.idle": "2025-07-13T22:12:25.537168Z",
     "shell.execute_reply": "2025-07-13T22:12:25.536296Z"
    },
    "papermill": {
     "duration": 0.055629,
     "end_time": "2025-07-13T22:12:25.538525",
     "exception": false,
     "start_time": "2025-07-13T22:12:25.482896",
     "status": "completed"
    },
    "tags": []
   },
   "outputs": [
    {
     "name": "stdout",
     "output_type": "stream",
     "text": [
      "Max leaf nodes: 5 \n",
      " Mean Absolute Error: 35044\n",
      "Max leaf nodes: 25 \n",
      " Mean Absolute Error: 29016\n",
      "Max leaf nodes: 50 \n",
      " Mean Absolute Error: 27734\n",
      "Max leaf nodes: 100 \n",
      " Mean Absolute Error: 27611\n",
      "Max leaf nodes: 250 \n",
      " Mean Absolute Error: 28271\n",
      "Max leaf nodes: 500 \n",
      " Mean Absolute Error: 29591\n",
      "100\n"
     ]
    },
    {
     "data": {
      "application/javascript": [
       "parent.postMessage({\"jupyterEvent\": \"custom.exercise_interaction\", \"data\": {\"outcomeType\": 1, \"valueTowardsCompletion\": 0.5, \"interactionType\": 1, \"questionType\": 1, \"questionId\": \"1_BestTreeSize\", \"learnToolsVersion\": \"0.3.5\", \"failureMessage\": \"\", \"exceptionClass\": \"\", \"trace\": \"\"}}, \"*\")"
      ],
      "text/plain": [
       "<IPython.core.display.Javascript object>"
      ]
     },
     "metadata": {},
     "output_type": "display_data"
    },
    {
     "data": {
      "text/markdown": [
       "<span style=\"color:#33cc33\">Correct</span>"
      ],
      "text/plain": [
       "Correct"
      ]
     },
     "metadata": {},
     "output_type": "display_data"
    }
   ],
   "source": [
    "candidate_max_leaf_nodes = [5, 25, 50, 100, 250, 500]\n",
    "# Write loop to find the ideal tree size from candidate_max_leaf_nodes\n",
    "for max_node in candidate_max_leaf_nodes:\n",
    "    my_mae = chau_get_mean_absolute_error(max_node,train_X, val_X, train_y, val_y)\n",
    "    if(max_node == 5):\n",
    "        lowest_mae = my_mae\n",
    "    else:\n",
    "        if(my_mae < lowest_mae):\n",
    "            lowest_mae = my_mae\n",
    "            best_tree_size = max_node\n",
    "    print(\"Max leaf nodes: %d \\n Mean Absolute Error: %d\" %(max_node, my_mae))\n",
    "    \n",
    "\n",
    "# Store the best value of max_leaf_nodes (it will be either 5, 25, 50, 100, 250 or 500)\n",
    "print(best_tree_size)\n",
    "\n",
    "# Check your answer\n",
    "step_1.check()"
   ]
  },
  {
   "cell_type": "code",
   "execution_count": 5,
   "id": "9cc07fc9",
   "metadata": {
    "execution": {
     "iopub.execute_input": "2025-07-13T22:12:25.547381Z",
     "iopub.status.busy": "2025-07-13T22:12:25.546533Z",
     "iopub.status.idle": "2025-07-13T22:12:25.551722Z",
     "shell.execute_reply": "2025-07-13T22:12:25.550905Z"
    },
    "papermill": {
     "duration": 0.011456,
     "end_time": "2025-07-13T22:12:25.553481",
     "exception": false,
     "start_time": "2025-07-13T22:12:25.542025",
     "status": "completed"
    },
    "tags": []
   },
   "outputs": [
    {
     "name": "stdout",
     "output_type": "stream",
     "text": [
      "100\n"
     ]
    }
   ],
   "source": [
    "print(best_tree_size)"
   ]
  },
  {
   "cell_type": "markdown",
   "id": "0162d73d",
   "metadata": {
    "papermill": {
     "duration": 0.003656,
     "end_time": "2025-07-13T22:12:25.561270",
     "exception": false,
     "start_time": "2025-07-13T22:12:25.557614",
     "status": "completed"
    },
    "tags": []
   },
   "source": [
    "## My note: \n",
    "1. I used the for-loop to try out different number of leafs and retrieve the mean_average_error (MAE) for each tree.\n",
    "2. I set the first MAE of the 5-leaves tree as my base, and I used that number as the benchmark to compare the MAE of other trees.\n",
    "3. Once I identified the lowest mean_average_error, I traced back to see which tree it is and stored the number of its leaves.\n",
    "4. Another way is creating a dictionary and storing the MAE in correspondence to the number of leaves, and then loop through again to do comparison; however, it is not sufficient in terms of memory and time. I created a new variable inside the loop and did a comparison along the way. "
   ]
  },
  {
   "cell_type": "code",
   "execution_count": 6,
   "id": "c21a2b7d",
   "metadata": {
    "execution": {
     "iopub.execute_input": "2025-07-13T22:12:25.571372Z",
     "iopub.status.busy": "2025-07-13T22:12:25.571018Z",
     "iopub.status.idle": "2025-07-13T22:12:25.575546Z",
     "shell.execute_reply": "2025-07-13T22:12:25.574556Z"
    },
    "papermill": {
     "duration": 0.012059,
     "end_time": "2025-07-13T22:12:25.577193",
     "exception": false,
     "start_time": "2025-07-13T22:12:25.565134",
     "status": "completed"
    },
    "tags": []
   },
   "outputs": [],
   "source": [
    "# The lines below will show you a hint or the solution.\n",
    "# step_1.hint() \n",
    "# step_1.solution()"
   ]
  },
  {
   "cell_type": "markdown",
   "id": "689175d3",
   "metadata": {
    "papermill": {
     "duration": 0.003251,
     "end_time": "2025-07-13T22:12:25.584157",
     "exception": false,
     "start_time": "2025-07-13T22:12:25.580906",
     "status": "completed"
    },
    "tags": []
   },
   "source": [
    "## Step 2: Fit Model Using All Data\n",
    "You know the best tree size. If you were going to deploy this model in practice, you would make it even more accurate by using all of the data and keeping that tree size.  That is, you don't need to hold out the validation data now that you've made all your modeling decisions."
   ]
  },
  {
   "cell_type": "code",
   "execution_count": 7,
   "id": "9eef7aad",
   "metadata": {
    "execution": {
     "iopub.execute_input": "2025-07-13T22:12:25.593102Z",
     "iopub.status.busy": "2025-07-13T22:12:25.592679Z",
     "iopub.status.idle": "2025-07-13T22:12:25.600523Z",
     "shell.execute_reply": "2025-07-13T22:12:25.599542Z"
    },
    "papermill": {
     "duration": 0.014059,
     "end_time": "2025-07-13T22:12:25.602052",
     "exception": false,
     "start_time": "2025-07-13T22:12:25.587993",
     "status": "completed"
    },
    "tags": []
   },
   "outputs": [
    {
     "data": {
      "application/javascript": [
       "parent.postMessage({\"jupyterEvent\": \"custom.exercise_interaction\", \"data\": {\"outcomeType\": 2, \"failureMessage\": \"You still need to define the following variables: `final_model`\", \"interactionType\": 1, \"questionType\": 2, \"questionId\": \"2_FitModelWithAllData\", \"learnToolsVersion\": \"0.3.5\", \"valueTowardsCompletion\": 0.0, \"exceptionClass\": \"\", \"trace\": \"\"}}, \"*\")"
      ],
      "text/plain": [
       "<IPython.core.display.Javascript object>"
      ]
     },
     "metadata": {},
     "output_type": "display_data"
    },
    {
     "data": {
      "text/markdown": [
       "<span style=\"color:#cc3333\">Incorrect:</span> You still need to define the following variables: `final_model`"
      ],
      "text/plain": [
       "Incorrect: You still need to define the following variables: `final_model`"
      ]
     },
     "metadata": {},
     "output_type": "display_data"
    }
   ],
   "source": [
    "# Fill in argument to make optimal size and uncomment\n",
    "# final_model = DecisionTreeRegressor(____)\n",
    "\n",
    "# fit the final model and uncomment the next two lines\n",
    "# final_model.fit(____, ____)\n",
    "\n",
    "# Check your answer\n",
    "step_2.check()"
   ]
  },
  {
   "cell_type": "code",
   "execution_count": 8,
   "id": "8d4467f7",
   "metadata": {
    "execution": {
     "iopub.execute_input": "2025-07-13T22:12:25.610962Z",
     "iopub.status.busy": "2025-07-13T22:12:25.610625Z",
     "iopub.status.idle": "2025-07-13T22:12:25.615392Z",
     "shell.execute_reply": "2025-07-13T22:12:25.614248Z"
    },
    "papermill": {
     "duration": 0.011475,
     "end_time": "2025-07-13T22:12:25.617343",
     "exception": false,
     "start_time": "2025-07-13T22:12:25.605868",
     "status": "completed"
    },
    "tags": []
   },
   "outputs": [],
   "source": [
    "# step_2.hint()\n",
    "# step_2.solution()"
   ]
  },
  {
   "cell_type": "markdown",
   "id": "7ba4c4f8",
   "metadata": {
    "papermill": {
     "duration": 0.003546,
     "end_time": "2025-07-13T22:12:25.624810",
     "exception": false,
     "start_time": "2025-07-13T22:12:25.621264",
     "status": "completed"
    },
    "tags": []
   },
   "source": [
    "You've tuned this model and improved your results. But we are still using Decision Tree models, which are not very sophisticated by modern machine learning standards. In the next step you will learn to use Random Forests to improve your models even more.\n",
    "\n",
    "# Keep Going\n",
    "\n",
    "You are ready for **[Random Forests](https://www.kaggle.com/dansbecker/random-forests).**\n"
   ]
  },
  {
   "cell_type": "markdown",
   "id": "ee6dd903",
   "metadata": {
    "papermill": {
     "duration": 0.003587,
     "end_time": "2025-07-13T22:12:25.632132",
     "exception": false,
     "start_time": "2025-07-13T22:12:25.628545",
     "status": "completed"
    },
    "tags": []
   },
   "source": [
    "---\n",
    "\n",
    "\n",
    "\n",
    "\n",
    "*Have questions or comments? Visit the [course discussion forum](https://www.kaggle.com/learn/intro-to-machine-learning/discussion) to chat with other learners.*"
   ]
  }
 ],
 "metadata": {
  "kaggle": {
   "accelerator": "none",
   "dataSources": [
    {
     "databundleVersionId": 111096,
     "sourceId": 10211,
     "sourceType": "competition"
    },
    {
     "datasetId": 11167,
     "sourceId": 15520,
     "sourceType": "datasetVersion"
    },
    {
     "datasetId": 2709,
     "sourceId": 38454,
     "sourceType": "datasetVersion"
    }
   ],
   "isGpuEnabled": false,
   "isInternetEnabled": false,
   "language": "python",
   "sourceType": "notebook"
  },
  "kernelspec": {
   "display_name": "Python 3",
   "language": "python",
   "name": "python3"
  },
  "language_info": {
   "codemirror_mode": {
    "name": "ipython",
    "version": 3
   },
   "file_extension": ".py",
   "mimetype": "text/x-python",
   "name": "python",
   "nbconvert_exporter": "python",
   "pygments_lexer": "ipython3",
   "version": "3.11.13"
  },
  "papermill": {
   "default_parameters": {},
   "duration": 11.681706,
   "end_time": "2025-07-13T22:12:26.357563",
   "environment_variables": {},
   "exception": null,
   "input_path": "__notebook__.ipynb",
   "output_path": "__notebook__.ipynb",
   "parameters": {},
   "start_time": "2025-07-13T22:12:14.675857",
   "version": "2.6.0"
  }
 },
 "nbformat": 4,
 "nbformat_minor": 5
}
